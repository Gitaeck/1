{
 "cells": [
  {
   "cell_type": "code",
   "execution_count": 123,
   "id": "a07d8bd3",
   "metadata": {},
   "outputs": [],
   "source": [
    "def preprocessing(data):\n",
    "  \n",
    "    # DataFrame 만들기 (why? dic 형태로 넘어 오기 때문에 변형이 필요하다 )\n",
    "    df = pd.DataFrame(index =range(0,1), columns = ['sweet_id' ,'body_id' ,'price' ,'flavor'] )\n",
    "    \n",
    "    # data_dic 형태에서 가져온 값을 DataFrame에 저장 하기 \n",
    "    df['sweet_id'] = data['sweet_id']\n",
    "    df['body_id'] = data['body_id']\n",
    "    df['price'] = data['price']\n",
    " \n",
    "    # body , dry 의 넘버를 flavor 넘버로 변경\n",
    "    for i j in arage(1,5):\n",
    "        \n",
    "    if [(df['sweet_id']== 1) & (df['body_id']== 1)]:\n",
    "        df['flavor'] = 1\n",
    "    elif [(df['sweet_id']== 1) & (df['body_id'] == 2)]:\n",
    "        df['flavor'] = 2\n",
    "    elif [(df['sweet_id']== 1) & (df['body_id'] == 3)]:\n",
    "        df['flavor'] = 3\n",
    "    elif [(df['sweet_id']== 1) & (df['body_id'] == 4)]:\n",
    "        df['flavor'] = 4\n",
    "    elif [(df['sweet_id']== 1) & (df['body_id'] == 5)]:\n",
    "        df['flavor'] = 5\n",
    "    elif [(df['sweet_id']== 2) & (df['body_id'] == 1)]:\n",
    "        df['flavor'] = 6\n",
    "    elif [(df['sweet_id']== 2) & (df['body_id'] == 2)]:\n",
    "        df['flavor'] = 7\n",
    "    elif [(df['sweet_id']== 2) & (df['body_id'] == 3)]:\n",
    "        df['flavor'] = 8\n",
    "    elif [(df['sweet_id']== 2) & (df['body_id'] == 4)]:\n",
    "        df['flavor'] = 9\n",
    "    elif [(df['sweet_id']== 2) & (df['body_id'] == 5)]:\n",
    "        df['flavor'] = 10\n",
    "    elif [(df['sweet_id']== 3) & (df['body_id'] == 1)]:\n",
    "        df['flavor'] = 11\n",
    "    elif [(df['sweet_id']== 3) & (df['body_id'] == 2)]:\n",
    "        df['flavor'] = 12\n",
    "    elif [(df['sweet_id']== 3) & (df['body_id'] == 3)]:\n",
    "        df['flavor'] = 13\n",
    "    elif [(df['sweet_id']== 3) & (df['body_id'] == 4)]:\n",
    "        df['flavor'] = 14\n",
    "    elif [(df['sweet_id']== 3) & (df['body_id'] == 5)]:\n",
    "        df['flavor'] = 15\n",
    "    elif [(df['sweet_id']== 4) & (df['body_id'] == 1)]:\n",
    "        df['flavor'] = 16\n",
    "    elif [(df['sweet_id']== 4) & (df['body_id'] == 2)]:\n",
    "        df['flavor'] = 17\n",
    "    elif [(df['sweet_id']== 4) & (df['body_id'] == 3)]:\n",
    "        df['flavor'] = 18\n",
    "    elif [(df['sweet_id']== 4) & (df['body_id'] == 4)]:\n",
    "        df['flavor'] = 19\n",
    "    elif [(df['sweet_id']== 4) & (df['body_id'] == 5)]:\n",
    "        df['flavor'] = 20\n",
    "    elif [(df['sweet_id']== 5) & (df['body_id'] == 1)]:\n",
    "        df['flavor'] = 21\n",
    "    elif [(df['sweet_id']== 5) & (df['body_id'] == 2)]:\n",
    "        df['flavor'] = 22\n",
    "    elif [(df['sweet_id']== 5) & (df['body_id'] == 3)]:\n",
    "        df['flavor'] = 23\n",
    "    elif [(df['sweet_id']== 5) & (df['body_id'] == 4)]:\n",
    "        df['flavor'] = 24\n",
    "    elif [(df['sweet_id']== 5) & (df['body_id'] == 5)]:\n",
    "        df['flavor'] = 25\n",
    "    return df"
   ]
  },
  {
   "cell_type": "code",
   "execution_count": null,
   "id": "0e925c16",
   "metadata": {
    "scrolled": false
   },
   "outputs": [
    {
     "name": "stdout",
     "output_type": "stream",
     "text": [
      " * Serving Flask app \"__main__\" (lazy loading)\n",
      " * Environment: production\n",
      "\u001b[31m   WARNING: This is a development server. Do not use it in a production deployment.\u001b[0m\n",
      "\u001b[2m   Use a production WSGI server instead.\u001b[0m\n",
      " * Debug mode: off\n"
     ]
    },
    {
     "name": "stderr",
     "output_type": "stream",
     "text": [
      " * Running on http://localhost:9000/ (Press CTRL+C to quit)\n",
      "C:\\Users\\smhrd\\anaconda3\\lib\\site-packages\\sklearn\\utils\\validation.py:63: FutureWarning: Arrays of bytes/strings is being converted to decimal numbers if dtype='numeric'. This behavior is deprecated in 0.24 and will be removed in 1.1 (renaming of 0.26). Please convert your data to numeric values explicitly instead.\n",
      "  return f(*args, **kwargs)\n",
      "127.0.0.1 - - [08/Apr/2022 12:49:06] \"GET /wine?sweet_id=3&body_id=3&price=9000 HTTP/1.1\" 302 -\n"
     ]
    },
    {
     "name": "stdout",
     "output_type": "stream",
     "text": [
      "접속완료\n",
      "  sweet_id body_id price  flavor\n",
      "0        3       3  9000       1\n",
      "9000\n",
      "1\n",
      "1923\n"
     ]
    }
   ],
   "source": [
    "import matplotlib.pyplot as plt\n",
    "import pandas as pd\n",
    "import numpy as np\n",
    "from sklearn.neighbors import KNeighborsClassifier\n",
    "from flask import Flask # 플라스크 클래스 임포트\n",
    "from flask import request, redirect\n",
    "    \n",
    "    # 추천 알고리즘 \n",
    "knn_model=KNeighborsClassifier()\n",
    "knn_model1=KNeighborsClassifier(n_neighbors=1)\n",
    "wine1 = pd.read_csv(\"wineFinal.csv\")\n",
    "x=wine1.loc[:,'price':'flavor']\n",
    "y=wine1.loc[:,'wine_id']\n",
    "knn_model1.fit(x, y)\n",
    "\n",
    "app = Flask(__name__) # 플라스크 서버 구동(Start)\n",
    "\n",
    "@app.route(\"/wine\") #localhost:9000/wine\n",
    "def hellow():\n",
    "    print(\"접속완료\")\n",
    "    # 모델사용 -> 결과값 도출\n",
    "    # 결과값을 다른 페이지로 이동! \n",
    "    # 값이 dic 타입으로 저장 \n",
    "    df = preprocessing(request.args)\n",
    "    print(df)\n",
    "    \n",
    "    #data = request.args\n",
    "    #print(test)\n",
    "    #z = df['sweet_id'] = data['sweet_id']\n",
    "    # print(z)\n",
    "    \n",
    "    # 선택된 값을 저장\n",
    "    a = df['price'].values[0]\n",
    "    b = df['flavor'].values[0]\n",
    "    print(a)\n",
    "    print(b)\n",
    "    pre = knn_model1.predict([[a,b]]) \n",
    "    print(pre[0])\n",
    "    # eclipse 로 넘겨주기    \n",
    "    \n",
    "    return redirect(\"http://localhost:8081/GitTest1/wineelements.jsp?result=\"+str(pre[0]))   \n",
    "\n",
    "if __name__ == \"__main__\":\n",
    "    app.run(host='localhost', port='9000') # 웹페이지 실행\n"
   ]
  }
 ],
 "metadata": {
  "kernelspec": {
   "display_name": "Python 3 (ipykernel)",
   "language": "python",
   "name": "python3"
  },
  "language_info": {
   "codemirror_mode": {
    "name": "ipython",
    "version": 3
   },
   "file_extension": ".py",
   "mimetype": "text/x-python",
   "name": "python",
   "nbconvert_exporter": "python",
   "pygments_lexer": "ipython3",
   "version": "3.9.7"
  }
 },
 "nbformat": 4,
 "nbformat_minor": 5
}
